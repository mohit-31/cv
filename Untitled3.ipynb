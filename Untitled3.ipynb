{
  "nbformat": 4,
  "nbformat_minor": 0,
  "metadata": {
    "colab": {
      "name": "Untitled3.ipynb",
      "provenance": [],
      "authorship_tag": "ABX9TyOyYvVizYShuSJVvuo0vqsQ",
      "include_colab_link": true
    },
    "kernelspec": {
      "name": "python3",
      "display_name": "Python 3"
    }
  },
  "cells": [
    {
      "cell_type": "markdown",
      "metadata": {
        "id": "view-in-github",
        "colab_type": "text"
      },
      "source": [
        "<a href=\"https://colab.research.google.com/github/mohit-31/cv/blob/main/Untitled3.ipynb\" target=\"_parent\"><img src=\"https://colab.research.google.com/assets/colab-badge.svg\" alt=\"Open In Colab\"/></a>"
      ]
    },
    {
      "cell_type": "code",
      "metadata": {
        "colab": {
          "base_uri": "https://localhost:8080/",
          "height": 402
        },
        "id": "RKTngiaSyr9D",
        "outputId": "9d571a7d-978d-44b4-beed-2489f5631ce2"
      },
      "source": [
        "import pandas as pd\n",
        "import numpy as np\n",
        "import matplotlib.pyplot as plt\n",
        "import seaborn as sns\n",
        " \n",
        "df=pd.read_csv('filename.csv')\n",
        "df=df[['temp(cel)','mean_windspeed(km/hr)','re_hum(%)','cloud(okta)','rain(mm)','avg._no._rainyday','district','month_index']]\n",
        "df"
      ],
      "execution_count": null,
      "outputs": [
        {
          "output_type": "execute_result",
          "data": {
            "text/html": [
              "<div>\n",
              "<style scoped>\n",
              "    .dataframe tbody tr th:only-of-type {\n",
              "        vertical-align: middle;\n",
              "    }\n",
              "\n",
              "    .dataframe tbody tr th {\n",
              "        vertical-align: top;\n",
              "    }\n",
              "\n",
              "    .dataframe thead th {\n",
              "        text-align: right;\n",
              "    }\n",
              "</style>\n",
              "<table border=\"1\" class=\"dataframe\">\n",
              "  <thead>\n",
              "    <tr style=\"text-align: right;\">\n",
              "      <th></th>\n",
              "      <th>temp(cel)</th>\n",
              "      <th>mean_windspeed(km/hr)</th>\n",
              "      <th>re_hum(%)</th>\n",
              "      <th>cloud(okta)</th>\n",
              "      <th>rain(mm)</th>\n",
              "      <th>avg._no._rainyday</th>\n",
              "      <th>district</th>\n",
              "      <th>month_index</th>\n",
              "    </tr>\n",
              "  </thead>\n",
              "  <tbody>\n",
              "    <tr>\n",
              "      <th>0</th>\n",
              "      <td>12.571663</td>\n",
              "      <td>4.861222</td>\n",
              "      <td>77.267091</td>\n",
              "      <td>1.525148</td>\n",
              "      <td>14.375759</td>\n",
              "      <td>0.9</td>\n",
              "      <td>Bhagalpur</td>\n",
              "      <td>1</td>\n",
              "    </tr>\n",
              "    <tr>\n",
              "      <th>1</th>\n",
              "      <td>16.876908</td>\n",
              "      <td>4.658724</td>\n",
              "      <td>76.001416</td>\n",
              "      <td>1.749436</td>\n",
              "      <td>13.976031</td>\n",
              "      <td>0.9</td>\n",
              "      <td>Bhagalpur</td>\n",
              "      <td>1</td>\n",
              "    </tr>\n",
              "    <tr>\n",
              "      <th>2</th>\n",
              "      <td>15.775776</td>\n",
              "      <td>3.505728</td>\n",
              "      <td>79.321824</td>\n",
              "      <td>1.713624</td>\n",
              "      <td>12.331613</td>\n",
              "      <td>0.9</td>\n",
              "      <td>Bhagalpur</td>\n",
              "      <td>1</td>\n",
              "    </tr>\n",
              "    <tr>\n",
              "      <th>3</th>\n",
              "      <td>12.903226</td>\n",
              "      <td>3.196545</td>\n",
              "      <td>79.323649</td>\n",
              "      <td>1.591761</td>\n",
              "      <td>12.337610</td>\n",
              "      <td>0.9</td>\n",
              "      <td>Bhagalpur</td>\n",
              "      <td>1</td>\n",
              "    </tr>\n",
              "    <tr>\n",
              "      <th>4</th>\n",
              "      <td>16.829754</td>\n",
              "      <td>4.926399</td>\n",
              "      <td>78.572965</td>\n",
              "      <td>1.469696</td>\n",
              "      <td>12.780349</td>\n",
              "      <td>0.9</td>\n",
              "      <td>Bhagalpur</td>\n",
              "      <td>1</td>\n",
              "    </tr>\n",
              "    <tr>\n",
              "      <th>...</th>\n",
              "      <td>...</td>\n",
              "      <td>...</td>\n",
              "      <td>...</td>\n",
              "      <td>...</td>\n",
              "      <td>...</td>\n",
              "      <td>...</td>\n",
              "      <td>...</td>\n",
              "      <td>...</td>\n",
              "    </tr>\n",
              "    <tr>\n",
              "      <th>5105</th>\n",
              "      <td>22.921990</td>\n",
              "      <td>1.056778</td>\n",
              "      <td>86.740943</td>\n",
              "      <td>0.523402</td>\n",
              "      <td>2.164579</td>\n",
              "      <td>0.4</td>\n",
              "      <td>Supaul</td>\n",
              "      <td>12</td>\n",
              "    </tr>\n",
              "    <tr>\n",
              "      <th>5106</th>\n",
              "      <td>22.700828</td>\n",
              "      <td>1.516224</td>\n",
              "      <td>83.216797</td>\n",
              "      <td>0.600504</td>\n",
              "      <td>5.536653</td>\n",
              "      <td>0.4</td>\n",
              "      <td>Supaul</td>\n",
              "      <td>12</td>\n",
              "    </tr>\n",
              "    <tr>\n",
              "      <th>5107</th>\n",
              "      <td>17.960705</td>\n",
              "      <td>2.402960</td>\n",
              "      <td>84.923203</td>\n",
              "      <td>0.599858</td>\n",
              "      <td>4.497545</td>\n",
              "      <td>0.4</td>\n",
              "      <td>Supaul</td>\n",
              "      <td>12</td>\n",
              "    </tr>\n",
              "    <tr>\n",
              "      <th>5108</th>\n",
              "      <td>25.074912</td>\n",
              "      <td>0.815435</td>\n",
              "      <td>85.353020</td>\n",
              "      <td>0.590177</td>\n",
              "      <td>3.974889</td>\n",
              "      <td>0.4</td>\n",
              "      <td>Supaul</td>\n",
              "      <td>12</td>\n",
              "    </tr>\n",
              "    <tr>\n",
              "      <th>5109</th>\n",
              "      <td>23.879991</td>\n",
              "      <td>1.563365</td>\n",
              "      <td>86.351620</td>\n",
              "      <td>0.765416</td>\n",
              "      <td>3.283006</td>\n",
              "      <td>0.4</td>\n",
              "      <td>Supaul</td>\n",
              "      <td>12</td>\n",
              "    </tr>\n",
              "  </tbody>\n",
              "</table>\n",
              "<p>5110 rows × 8 columns</p>\n",
              "</div>"
            ],
            "text/plain": [
              "      temp(cel)  mean_windspeed(km/hr)  ...   district  month_index\n",
              "0     12.571663               4.861222  ...  Bhagalpur            1\n",
              "1     16.876908               4.658724  ...  Bhagalpur            1\n",
              "2     15.775776               3.505728  ...  Bhagalpur            1\n",
              "3     12.903226               3.196545  ...  Bhagalpur            1\n",
              "4     16.829754               4.926399  ...  Bhagalpur            1\n",
              "...         ...                    ...  ...        ...          ...\n",
              "5105  22.921990               1.056778  ...     Supaul           12\n",
              "5106  22.700828               1.516224  ...     Supaul           12\n",
              "5107  17.960705               2.402960  ...     Supaul           12\n",
              "5108  25.074912               0.815435  ...     Supaul           12\n",
              "5109  23.879991               1.563365  ...     Supaul           12\n",
              "\n",
              "[5110 rows x 8 columns]"
            ]
          },
          "metadata": {
            "tags": []
          },
          "execution_count": 1
        }
      ]
    },
    {
      "cell_type": "code",
      "metadata": {
        "colab": {
          "base_uri": "https://localhost:8080/"
        },
        "id": "Nuwuvsx8z5LU",
        "outputId": "045c3a4d-7bc3-4881-bc67-72455c0e6f17"
      },
      "source": [
        "from sklearn import preprocessing\r\n",
        "lb = preprocessing.LabelEncoder()\r\n",
        "df['district']=lb.fit_transform(df['district'])\r\n",
        "\r\n",
        "df['district'].unique()"
      ],
      "execution_count": null,
      "outputs": [
        {
          "output_type": "execute_result",
          "data": {
            "text/plain": [
              "array([ 0, 11,  1,  2,  3,  4, 12,  5,  6, 13,  7,  8,  9, 10])"
            ]
          },
          "metadata": {
            "tags": []
          },
          "execution_count": 2
        }
      ]
    },
    {
      "cell_type": "code",
      "metadata": {
        "colab": {
          "base_uri": "https://localhost:8080/",
          "height": 402
        },
        "id": "tomapgWm0JJ5",
        "outputId": "c5317283-47e8-42f5-ab7b-bb932853387c"
      },
      "source": [
        "df\r\n"
      ],
      "execution_count": null,
      "outputs": [
        {
          "output_type": "execute_result",
          "data": {
            "text/html": [
              "<div>\n",
              "<style scoped>\n",
              "    .dataframe tbody tr th:only-of-type {\n",
              "        vertical-align: middle;\n",
              "    }\n",
              "\n",
              "    .dataframe tbody tr th {\n",
              "        vertical-align: top;\n",
              "    }\n",
              "\n",
              "    .dataframe thead th {\n",
              "        text-align: right;\n",
              "    }\n",
              "</style>\n",
              "<table border=\"1\" class=\"dataframe\">\n",
              "  <thead>\n",
              "    <tr style=\"text-align: right;\">\n",
              "      <th></th>\n",
              "      <th>temp(cel)</th>\n",
              "      <th>mean_windspeed(km/hr)</th>\n",
              "      <th>re_hum(%)</th>\n",
              "      <th>cloud(okta)</th>\n",
              "      <th>rain(mm)</th>\n",
              "      <th>avg._no._rainyday</th>\n",
              "      <th>district</th>\n",
              "      <th>month_index</th>\n",
              "    </tr>\n",
              "  </thead>\n",
              "  <tbody>\n",
              "    <tr>\n",
              "      <th>0</th>\n",
              "      <td>12.571663</td>\n",
              "      <td>4.861222</td>\n",
              "      <td>77.267091</td>\n",
              "      <td>1.525148</td>\n",
              "      <td>14.375759</td>\n",
              "      <td>0.9</td>\n",
              "      <td>0</td>\n",
              "      <td>1</td>\n",
              "    </tr>\n",
              "    <tr>\n",
              "      <th>1</th>\n",
              "      <td>16.876908</td>\n",
              "      <td>4.658724</td>\n",
              "      <td>76.001416</td>\n",
              "      <td>1.749436</td>\n",
              "      <td>13.976031</td>\n",
              "      <td>0.9</td>\n",
              "      <td>0</td>\n",
              "      <td>1</td>\n",
              "    </tr>\n",
              "    <tr>\n",
              "      <th>2</th>\n",
              "      <td>15.775776</td>\n",
              "      <td>3.505728</td>\n",
              "      <td>79.321824</td>\n",
              "      <td>1.713624</td>\n",
              "      <td>12.331613</td>\n",
              "      <td>0.9</td>\n",
              "      <td>0</td>\n",
              "      <td>1</td>\n",
              "    </tr>\n",
              "    <tr>\n",
              "      <th>3</th>\n",
              "      <td>12.903226</td>\n",
              "      <td>3.196545</td>\n",
              "      <td>79.323649</td>\n",
              "      <td>1.591761</td>\n",
              "      <td>12.337610</td>\n",
              "      <td>0.9</td>\n",
              "      <td>0</td>\n",
              "      <td>1</td>\n",
              "    </tr>\n",
              "    <tr>\n",
              "      <th>4</th>\n",
              "      <td>16.829754</td>\n",
              "      <td>4.926399</td>\n",
              "      <td>78.572965</td>\n",
              "      <td>1.469696</td>\n",
              "      <td>12.780349</td>\n",
              "      <td>0.9</td>\n",
              "      <td>0</td>\n",
              "      <td>1</td>\n",
              "    </tr>\n",
              "    <tr>\n",
              "      <th>...</th>\n",
              "      <td>...</td>\n",
              "      <td>...</td>\n",
              "      <td>...</td>\n",
              "      <td>...</td>\n",
              "      <td>...</td>\n",
              "      <td>...</td>\n",
              "      <td>...</td>\n",
              "      <td>...</td>\n",
              "    </tr>\n",
              "    <tr>\n",
              "      <th>5105</th>\n",
              "      <td>22.921990</td>\n",
              "      <td>1.056778</td>\n",
              "      <td>86.740943</td>\n",
              "      <td>0.523402</td>\n",
              "      <td>2.164579</td>\n",
              "      <td>0.4</td>\n",
              "      <td>10</td>\n",
              "      <td>12</td>\n",
              "    </tr>\n",
              "    <tr>\n",
              "      <th>5106</th>\n",
              "      <td>22.700828</td>\n",
              "      <td>1.516224</td>\n",
              "      <td>83.216797</td>\n",
              "      <td>0.600504</td>\n",
              "      <td>5.536653</td>\n",
              "      <td>0.4</td>\n",
              "      <td>10</td>\n",
              "      <td>12</td>\n",
              "    </tr>\n",
              "    <tr>\n",
              "      <th>5107</th>\n",
              "      <td>17.960705</td>\n",
              "      <td>2.402960</td>\n",
              "      <td>84.923203</td>\n",
              "      <td>0.599858</td>\n",
              "      <td>4.497545</td>\n",
              "      <td>0.4</td>\n",
              "      <td>10</td>\n",
              "      <td>12</td>\n",
              "    </tr>\n",
              "    <tr>\n",
              "      <th>5108</th>\n",
              "      <td>25.074912</td>\n",
              "      <td>0.815435</td>\n",
              "      <td>85.353020</td>\n",
              "      <td>0.590177</td>\n",
              "      <td>3.974889</td>\n",
              "      <td>0.4</td>\n",
              "      <td>10</td>\n",
              "      <td>12</td>\n",
              "    </tr>\n",
              "    <tr>\n",
              "      <th>5109</th>\n",
              "      <td>23.879991</td>\n",
              "      <td>1.563365</td>\n",
              "      <td>86.351620</td>\n",
              "      <td>0.765416</td>\n",
              "      <td>3.283006</td>\n",
              "      <td>0.4</td>\n",
              "      <td>10</td>\n",
              "      <td>12</td>\n",
              "    </tr>\n",
              "  </tbody>\n",
              "</table>\n",
              "<p>5110 rows × 8 columns</p>\n",
              "</div>"
            ],
            "text/plain": [
              "      temp(cel)  mean_windspeed(km/hr)  ...  district  month_index\n",
              "0     12.571663               4.861222  ...         0            1\n",
              "1     16.876908               4.658724  ...         0            1\n",
              "2     15.775776               3.505728  ...         0            1\n",
              "3     12.903226               3.196545  ...         0            1\n",
              "4     16.829754               4.926399  ...         0            1\n",
              "...         ...                    ...  ...       ...          ...\n",
              "5105  22.921990               1.056778  ...        10           12\n",
              "5106  22.700828               1.516224  ...        10           12\n",
              "5107  17.960705               2.402960  ...        10           12\n",
              "5108  25.074912               0.815435  ...        10           12\n",
              "5109  23.879991               1.563365  ...        10           12\n",
              "\n",
              "[5110 rows x 8 columns]"
            ]
          },
          "metadata": {
            "tags": []
          },
          "execution_count": 3
        }
      ]
    },
    {
      "cell_type": "code",
      "metadata": {
        "colab": {
          "base_uri": "https://localhost:8080/",
          "height": 402
        },
        "id": "ACukcFJo0MU9",
        "outputId": "a37d1517-ad7e-4579-b5bd-1a0534fc0b28"
      },
      "source": [
        "df = df.sample(frac = 1) \r\n",
        "df"
      ],
      "execution_count": null,
      "outputs": [
        {
          "output_type": "execute_result",
          "data": {
            "text/html": [
              "<div>\n",
              "<style scoped>\n",
              "    .dataframe tbody tr th:only-of-type {\n",
              "        vertical-align: middle;\n",
              "    }\n",
              "\n",
              "    .dataframe tbody tr th {\n",
              "        vertical-align: top;\n",
              "    }\n",
              "\n",
              "    .dataframe thead th {\n",
              "        text-align: right;\n",
              "    }\n",
              "</style>\n",
              "<table border=\"1\" class=\"dataframe\">\n",
              "  <thead>\n",
              "    <tr style=\"text-align: right;\">\n",
              "      <th></th>\n",
              "      <th>temp(cel)</th>\n",
              "      <th>mean_windspeed(km/hr)</th>\n",
              "      <th>re_hum(%)</th>\n",
              "      <th>cloud(okta)</th>\n",
              "      <th>rain(mm)</th>\n",
              "      <th>avg._no._rainyday</th>\n",
              "      <th>district</th>\n",
              "      <th>month_index</th>\n",
              "    </tr>\n",
              "  </thead>\n",
              "  <tbody>\n",
              "    <tr>\n",
              "      <th>213</th>\n",
              "      <td>18.161611</td>\n",
              "      <td>3.111141</td>\n",
              "      <td>82.792394</td>\n",
              "      <td>0.475330</td>\n",
              "      <td>9.982778</td>\n",
              "      <td>0.9</td>\n",
              "      <td>12</td>\n",
              "      <td>1</td>\n",
              "    </tr>\n",
              "    <tr>\n",
              "      <th>3649</th>\n",
              "      <td>27.310043</td>\n",
              "      <td>4.301057</td>\n",
              "      <td>85.127098</td>\n",
              "      <td>4.955106</td>\n",
              "      <td>200.124588</td>\n",
              "      <td>8.7</td>\n",
              "      <td>6</td>\n",
              "      <td>9</td>\n",
              "    </tr>\n",
              "    <tr>\n",
              "      <th>904</th>\n",
              "      <td>24.830472</td>\n",
              "      <td>3.900630</td>\n",
              "      <td>63.042477</td>\n",
              "      <td>0.613951</td>\n",
              "      <td>9.147551</td>\n",
              "      <td>0.7</td>\n",
              "      <td>1</td>\n",
              "      <td>3</td>\n",
              "    </tr>\n",
              "    <tr>\n",
              "      <th>1090</th>\n",
              "      <td>28.631168</td>\n",
              "      <td>4.002278</td>\n",
              "      <td>60.488864</td>\n",
              "      <td>1.296516</td>\n",
              "      <td>4.335975</td>\n",
              "      <td>0.6</td>\n",
              "      <td>6</td>\n",
              "      <td>3</td>\n",
              "    </tr>\n",
              "    <tr>\n",
              "      <th>4203</th>\n",
              "      <td>21.993539</td>\n",
              "      <td>4.352094</td>\n",
              "      <td>79.074144</td>\n",
              "      <td>2.840750</td>\n",
              "      <td>71.072486</td>\n",
              "      <td>4.0</td>\n",
              "      <td>9</td>\n",
              "      <td>10</td>\n",
              "    </tr>\n",
              "    <tr>\n",
              "      <th>...</th>\n",
              "      <td>...</td>\n",
              "      <td>...</td>\n",
              "      <td>...</td>\n",
              "      <td>...</td>\n",
              "      <td>...</td>\n",
              "      <td>...</td>\n",
              "      <td>...</td>\n",
              "      <td>...</td>\n",
              "    </tr>\n",
              "    <tr>\n",
              "      <th>1851</th>\n",
              "      <td>34.013282</td>\n",
              "      <td>9.286114</td>\n",
              "      <td>47.803119</td>\n",
              "      <td>1.552788</td>\n",
              "      <td>18.658473</td>\n",
              "      <td>1.2</td>\n",
              "      <td>4</td>\n",
              "      <td>5</td>\n",
              "    </tr>\n",
              "    <tr>\n",
              "      <th>1749</th>\n",
              "      <td>25.576685</td>\n",
              "      <td>5.548654</td>\n",
              "      <td>58.276335</td>\n",
              "      <td>1.137495</td>\n",
              "      <td>57.028708</td>\n",
              "      <td>3.2</td>\n",
              "      <td>1</td>\n",
              "      <td>5</td>\n",
              "    </tr>\n",
              "    <tr>\n",
              "      <th>4405</th>\n",
              "      <td>26.076938</td>\n",
              "      <td>2.645035</td>\n",
              "      <td>77.334458</td>\n",
              "      <td>1.256247</td>\n",
              "      <td>6.936896</td>\n",
              "      <td>0.3</td>\n",
              "      <td>3</td>\n",
              "      <td>11</td>\n",
              "    </tr>\n",
              "    <tr>\n",
              "      <th>2700</th>\n",
              "      <td>25.829325</td>\n",
              "      <td>9.959403</td>\n",
              "      <td>82.702144</td>\n",
              "      <td>6.431418</td>\n",
              "      <td>268.530807</td>\n",
              "      <td>12.4</td>\n",
              "      <td>4</td>\n",
              "      <td>7</td>\n",
              "    </tr>\n",
              "    <tr>\n",
              "      <th>5033</th>\n",
              "      <td>19.926470</td>\n",
              "      <td>2.758500</td>\n",
              "      <td>84.415813</td>\n",
              "      <td>1.100052</td>\n",
              "      <td>1.469468</td>\n",
              "      <td>0.2</td>\n",
              "      <td>8</td>\n",
              "      <td>12</td>\n",
              "    </tr>\n",
              "  </tbody>\n",
              "</table>\n",
              "<p>5110 rows × 8 columns</p>\n",
              "</div>"
            ],
            "text/plain": [
              "      temp(cel)  mean_windspeed(km/hr)  ...  district  month_index\n",
              "213   18.161611               3.111141  ...        12            1\n",
              "3649  27.310043               4.301057  ...         6            9\n",
              "904   24.830472               3.900630  ...         1            3\n",
              "1090  28.631168               4.002278  ...         6            3\n",
              "4203  21.993539               4.352094  ...         9           10\n",
              "...         ...                    ...  ...       ...          ...\n",
              "1851  34.013282               9.286114  ...         4            5\n",
              "1749  25.576685               5.548654  ...         1            5\n",
              "4405  26.076938               2.645035  ...         3           11\n",
              "2700  25.829325               9.959403  ...         4            7\n",
              "5033  19.926470               2.758500  ...         8           12\n",
              "\n",
              "[5110 rows x 8 columns]"
            ]
          },
          "metadata": {
            "tags": []
          },
          "execution_count": 4
        }
      ]
    },
    {
      "cell_type": "code",
      "metadata": {
        "id": "pCmKbc7X0dPf"
      },
      "source": [
        "X=df[['temp(cel)','mean_windspeed(km/hr)','re_hum(%)','cloud(okta)','rain(mm)','avg._no._rainyday']]\r\n",
        "y1=df[['district']]\r\n",
        "y2=df[['month_index']]\r\n",
        "\r\n",
        "\r\n"
      ],
      "execution_count": null,
      "outputs": []
    },
    {
      "cell_type": "code",
      "metadata": {
        "colab": {
          "base_uri": "https://localhost:8080/"
        },
        "id": "EluWkU6d1di1",
        "outputId": "352c67c2-8bdb-484c-8ce3-ab25a005ba57"
      },
      "source": [
        "X1=X.iloc[:,:-1].values \r\n",
        "X1.shape\r\n",
        "X.shape\r\n",
        "y1.shape\r\n"
      ],
      "execution_count": null,
      "outputs": [
        {
          "output_type": "execute_result",
          "data": {
            "text/plain": [
              "(5110, 1)"
            ]
          },
          "metadata": {
            "tags": []
          },
          "execution_count": 30
        }
      ]
    },
    {
      "cell_type": "code",
      "metadata": {
        "colab": {
          "base_uri": "https://localhost:8080/"
        },
        "id": "v6zKhTeQ13HP",
        "outputId": "faeea058-9a09-4df2-b7f0-0bd09f4f82d6"
      },
      "source": [
        "y12=df['district'].values\r\n",
        "y12"
      ],
      "execution_count": null,
      "outputs": [
        {
          "output_type": "execute_result",
          "data": {
            "text/plain": [
              "array([12,  6,  1, ...,  3,  4,  8])"
            ]
          },
          "metadata": {
            "tags": []
          },
          "execution_count": 14
        }
      ]
    },
    {
      "cell_type": "code",
      "metadata": {
        "colab": {
          "base_uri": "https://localhost:8080/"
        },
        "id": "CxLtxLx2Ak5j",
        "outputId": "24bc9e36-bae9-4fe3-8ec4-53c544beb68e"
      },
      "source": [
        "y22=df['month_index'].values\r\n",
        "y22"
      ],
      "execution_count": null,
      "outputs": [
        {
          "output_type": "execute_result",
          "data": {
            "text/plain": [
              "array([ 1,  9,  3, ..., 11,  7, 12])"
            ]
          },
          "metadata": {
            "tags": []
          },
          "execution_count": 35
        }
      ]
    },
    {
      "cell_type": "code",
      "metadata": {
        "colab": {
          "base_uri": "https://localhost:8080/"
        },
        "id": "Uyu1URYY2Et3",
        "outputId": "2d961eff-d3d4-4af7-89be-3229fa6e262b"
      },
      "source": [
        "y12.size"
      ],
      "execution_count": null,
      "outputs": [
        {
          "output_type": "execute_result",
          "data": {
            "text/plain": [
              "5110"
            ]
          },
          "metadata": {
            "tags": []
          },
          "execution_count": 16
        }
      ]
    },
    {
      "cell_type": "code",
      "metadata": {
        "colab": {
          "base_uri": "https://localhost:8080/",
          "height": 729
        },
        "id": "g5g0toI12Lbc",
        "outputId": "b7548e39-28d5-42ba-e8f4-53d5e6aa52b6"
      },
      "source": [
        "sns.jointplot(x='cloud(okta)',y='district',data=df,kind='reg',height=10)\r\n",
        "plt.show();"
      ],
      "execution_count": null,
      "outputs": [
        {
          "output_type": "display_data",
          "data": {
            "image/png": "[encoded data removed]",
            "text/plain": [
              "<Figure size 720x720 with 3 Axes>"
            ]
          },
          "metadata": {
            "tags": [],
            "needs_background": "light"
          }
        }
      ]
    },
    {
      "cell_type": "code",
      "metadata": {
        "colab": {
          "base_uri": "https://localhost:8080/",
          "height": 225
        },
        "id": "cxmXl_7A4-MM",
        "outputId": "ae9484a5-b93e-40a1-ba1c-eb624621b6b4"
      },
      "source": [
        "corr_matrix=X.corr()\r\n",
        "pd.options.display.float_format='{:,.2f}'.format\r\n",
        "corr_matrix"
      ],
      "execution_count": null,
      "outputs": [
        {
          "output_type": "execute_result",
          "data": {
            "text/html": [
              "<div>\n",
              "<style scoped>\n",
              "    .dataframe tbody tr th:only-of-type {\n",
              "        vertical-align: middle;\n",
              "    }\n",
              "\n",
              "    .dataframe tbody tr th {\n",
              "        vertical-align: top;\n",
              "    }\n",
              "\n",
              "    .dataframe thead th {\n",
              "        text-align: right;\n",
              "    }\n",
              "</style>\n",
              "<table border=\"1\" class=\"dataframe\">\n",
              "  <thead>\n",
              "    <tr style=\"text-align: right;\">\n",
              "      <th></th>\n",
              "      <th>temp(cel)</th>\n",
              "      <th>mean_windspeed(km/hr)</th>\n",
              "      <th>re_hum(%)</th>\n",
              "      <th>cloud(okta)</th>\n",
              "      <th>rain(mm)</th>\n",
              "      <th>avg._no._rainyday</th>\n",
              "    </tr>\n",
              "  </thead>\n",
              "  <tbody>\n",
              "    <tr>\n",
              "      <th>temp(cel)</th>\n",
              "      <td>1.00</td>\n",
              "      <td>0.52</td>\n",
              "      <td>-0.02</td>\n",
              "      <td>0.48</td>\n",
              "      <td>0.45</td>\n",
              "      <td>0.47</td>\n",
              "    </tr>\n",
              "    <tr>\n",
              "      <th>mean_windspeed(km/hr)</th>\n",
              "      <td>0.52</td>\n",
              "      <td>1.00</td>\n",
              "      <td>-0.07</td>\n",
              "      <td>0.47</td>\n",
              "      <td>0.39</td>\n",
              "      <td>0.41</td>\n",
              "    </tr>\n",
              "    <tr>\n",
              "      <th>re_hum(%)</th>\n",
              "      <td>-0.02</td>\n",
              "      <td>-0.07</td>\n",
              "      <td>1.00</td>\n",
              "      <td>0.50</td>\n",
              "      <td>0.50</td>\n",
              "      <td>0.49</td>\n",
              "    </tr>\n",
              "    <tr>\n",
              "      <th>cloud(okta)</th>\n",
              "      <td>0.48</td>\n",
              "      <td>0.47</td>\n",
              "      <td>0.50</td>\n",
              "      <td>1.00</td>\n",
              "      <td>0.94</td>\n",
              "      <td>0.96</td>\n",
              "    </tr>\n",
              "    <tr>\n",
              "      <th>rain(mm)</th>\n",
              "      <td>0.45</td>\n",
              "      <td>0.39</td>\n",
              "      <td>0.50</td>\n",
              "      <td>0.94</td>\n",
              "      <td>1.00</td>\n",
              "      <td>0.99</td>\n",
              "    </tr>\n",
              "    <tr>\n",
              "      <th>avg._no._rainyday</th>\n",
              "      <td>0.47</td>\n",
              "      <td>0.41</td>\n",
              "      <td>0.49</td>\n",
              "      <td>0.96</td>\n",
              "      <td>0.99</td>\n",
              "      <td>1.00</td>\n",
              "    </tr>\n",
              "  </tbody>\n",
              "</table>\n",
              "</div>"
            ],
            "text/plain": [
              "                       temp(cel)  ...  avg._no._rainyday\n",
              "temp(cel)                   1.00  ...               0.47\n",
              "mean_windspeed(km/hr)       0.52  ...               0.41\n",
              "re_hum(%)                  -0.02  ...               0.49\n",
              "cloud(okta)                 0.48  ...               0.96\n",
              "rain(mm)                    0.45  ...               0.99\n",
              "avg._no._rainyday           0.47  ...               1.00\n",
              "\n",
              "[6 rows x 6 columns]"
            ]
          },
          "metadata": {
            "tags": []
          },
          "execution_count": 18
        }
      ]
    },
    {
      "cell_type": "code",
      "metadata": {
        "colab": {
          "base_uri": "https://localhost:8080/",
          "height": 596
        },
        "id": "5QFwu6US8ML3",
        "outputId": "5858e46f-8054-4b2b-cd22-a6216ec9ced7"
      },
      "source": [
        "plt.figure(figsize=(16,10 ))\r\n",
        "sns.heatmap(corr_matrix,annot=True,cmap='YlGnBu')\r\n",
        "plt.show()"
      ],
      "execution_count": null,
      "outputs": [
        {
          "output_type": "display_data",
          "data": {
            "image/png": "[encoded data removed]",
            "text/plain": [
              "<Figure size 1152x720 with 2 Axes>"
            ]
          },
          "metadata": {
            "tags": [],
            "needs_background": "light"
          }
        }
      ]
    },
    {
      "cell_type": "code",
      "metadata": {
        "colab": {
          "base_uri": "https://localhost:8080/"
        },
        "id": "HTEeRoAQ8TsU",
        "outputId": "4741fdc0-81ed-4cd2-c844-94d463125931"
      },
      "source": [
        "eignvalues,eignvectors = np.linalg.eig(X.corr())\r\n",
        "pd.Series(eignvalues).sort_values()"
      ],
      "execution_count": null,
      "outputs": [
        {
          "output_type": "execute_result",
          "data": {
            "text/plain": [
              "4   0.01\n",
              "5   0.06\n",
              "3   0.41\n",
              "2   0.48\n",
              "1   1.32\n",
              "0   3.72\n",
              "dtype: float64"
            ]
          },
          "metadata": {
            "tags": []
          },
          "execution_count": 23
        }
      ]
    },
    {
      "cell_type": "code",
      "metadata": {
        "id": "VI8EV7jA9yyn"
      },
      "source": [
        "from sklearn import tree\r\n",
        "clf = tree.DecisionTreeClassifier()\r\n",
        "# clf = clf.fit(X,y1)"
      ],
      "execution_count": null,
      "outputs": []
    },
    {
      "cell_type": "code",
      "metadata": {
        "colab": {
          "base_uri": "https://localhost:8080/"
        },
        "id": "JVF-ujOC938I",
        "outputId": "e7644e57-7204-47dd-9dcb-0f3987ca1134"
      },
      "source": [
        "from sklearn.model_selection import train_test_split\r\n",
        "X_train,X_test,y_train,y_test = train_test_split(X,y1,test_size=.1,random_state=42)\r\n",
        "clf = clf.fit(X_train,y_train)\r\n"
      ],
      "execution_count": null,
      "outputs": [
        {
          "output_type": "stream",
          "text": [
            "      district\n",
            "3656         6\n",
            "3793        10\n",
            "4594         8\n",
            "384          9\n",
            "1457        12\n",
            "...        ...\n",
            "4118        13\n",
            "109          2\n",
            "20           0\n",
            "4856         4\n",
            "440          0\n",
            "\n",
            "[4599 rows x 1 columns]\n"
          ],
          "name": "stdout"
        }
      ]
    },
    {
      "cell_type": "code",
      "metadata": {
        "colab": {
          "base_uri": "https://localhost:8080/"
        },
        "id": "8WhFUOqr-DaV",
        "outputId": "03e1c574-b98d-4c69-b9c9-87be61bfb0a9"
      },
      "source": [
        "from sklearn.metrics import accuracy_score\r\n",
        "y_pred = clf.predict(X_test)\r\n",
        "accuracy_score(y_test,y_pred)"
      ],
      "execution_count": null,
      "outputs": [
        {
          "output_type": "execute_result",
          "data": {
            "text/plain": [
              "0.9178082191780822"
            ]
          },
          "metadata": {
            "tags": []
          },
          "execution_count": 27
        }
      ]
    },
    {
      "cell_type": "code",
      "metadata": {
        "id": "y4e2Mv_-A-hI"
      },
      "source": [
        "from sklearn.model_selection import train_test_split\r\n",
        "X_train,X_test,y2_train,y2_test = train_test_split(X,y2,test_size=.1,random_state=42)\r\n",
        "clf = clf.fit(X_train,y2_train)\r\n"
      ],
      "execution_count": null,
      "outputs": []
    },
    {
      "cell_type": "code",
      "metadata": {
        "colab": {
          "base_uri": "https://localhost:8080/"
        },
        "id": "Eeqqg_qPCQQk",
        "outputId": "903589f5-41ce-4b4f-daf7-6ae4d12df8f5"
      },
      "source": [
        "from sklearn.metrics import accuracy_score\r\n",
        "y2_pred = clf.predict(X_test)\r\n",
        "accuracy_score(y2_test,y2_pred)"
      ],
      "execution_count": null,
      "outputs": [
        {
          "output_type": "execute_result",
          "data": {
            "text/plain": [
              "0.9784735812133072"
            ]
          },
          "metadata": {
            "tags": []
          },
          "execution_count": 40
        }
      ]
    }
  ]
}